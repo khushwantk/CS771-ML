{
 "cells": [
  {
   "cell_type": "code",
   "execution_count": null,
   "metadata": {
    "vscode": {
     "languageId": "plaintext"
    }
   },
   "outputs": [],
   "source": [
    "import matplotlib.pyplot as plt\n",
    "import numpy as np\n",
    "import pandas as pd\n",
    "from tensorflow.keras.models import Sequential\n",
    "from tensorflow.keras.layers import Embedding, GRU, Dense, Dropout, Input\n",
    "from tensorflow.keras.optimizers import Adam\n",
    "import numpy as np\n",
    "import pandas as pd\n",
    "from tensorflow.keras.models import Sequential\n",
    "from tensorflow.keras.layers import Embedding, GRU, Dense, Dropout, Input\n",
    "from tensorflow.keras.optimizers import Adam\n",
    "import numpy as np\n",
    "import pandas as pd\n",
    "from tensorflow.keras.models import Sequential\n",
    "from tensorflow.keras.layers import Embedding, GRU, Dense, Dropout, Input\n",
    "from tensorflow.keras.optimizers import Adam\n",
    "from keras.layers import LSTM"
   ]
  },
  {
   "cell_type": "code",
   "execution_count": null,
   "metadata": {
    "vscode": {
     "languageId": "plaintext"
    }
   },
   "outputs": [],
   "source": [
    "train_text_seq_path = \"./datasets/train/train_text_seq.csv\"\n",
    "valid_text_seq_path = \"./datasets/valid/valid_text_seq.csv\"\n",
    "test_text_seq_path = \"./datasets/test/test_text_seq.csv\""
   ]
  },
  {
   "cell_type": "code",
   "execution_count": null,
   "metadata": {
    "vscode": {
     "languageId": "plaintext"
    }
   },
   "outputs": [],
   "source": [
    "train_df = pd.read_csv(train_text_seq_path)\n",
    "validation_df = pd.read_csv(valid_text_seq_path)\n",
    "test_df = pd.read_csv(test_text_seq_path)\n",
    "\n",
    "\n",
    "# Convert input_str to list of integers (0-9) for each character for training and validation\n",
    "X_train = np.array([[int(char) for char in seq] for seq in train_df['input_str']])\n",
    "y_train = np.array(train_df['label'])\n",
    "\n",
    "X_val = np.array([[int(char) for char in seq] for seq in validation_df['input_str']])\n",
    "y_val = np.array(validation_df['label'])\n",
    "\n",
    "# Convert input_str to list of integers for the test set (no labels in the test set)\n",
    "X_test = np.array([[int(char) for char in seq] for seq in test_df['input_str']])\n",
    "\n",
    "# Print shapes of the data\n",
    "print(\"Training data shape:\", X_train.shape)  # Should print (num_samples, 50)\n",
    "print(\"Validation data shape:\", X_val.shape)  # Should print (num_samples, 50)\n",
    "print(\"Test data shape:\", X_test.shape)        # Should print (num_samples, 50)\n",
    "\n",
    "# Model Parameters\n",
    "max_length = 50  # As mentioned, input strings have a fixed length of 50\n",
    "vocab_size = 10  # Since digits are between 0-9\n",
    "\n",
    "def create_gru_model():\n",
    "    embedding_dim = 64\n",
    "    model = Sequential()\n",
    "    model.add(Input(shape=(max_length,)))\n",
    "    model.add(Embedding(input_dim=vocab_size, output_dim=embedding_dim))\n",
    "    model.add(GRU(units=28, return_sequences=False))\n",
    "    model.add(Dense(32, activation='relu'))\n",
    "#     model.add(Dropout(0.5))\n",
    "    model.add(Dense(1, activation='sigmoid'))\n",
    "    model.compile(optimizer='adam', loss='binary_crossentropy', metrics=['accuracy'])\n",
    "    return model\n",
    "\n",
    "\n",
    "def create_lstm_model():\n",
    "    embedding_dim = 32\n",
    "    model = Sequential()\n",
    "    model.add(Input(shape=(max_length,)))\n",
    "    model.add(Embedding(input_dim=vocab_size, output_dim=embedding_dim))\n",
    "    model.add(LSTM(units=32, return_sequences=False))\n",
    "    model.add(Dense(38))\n",
    "#     model.add(Dropout(0.5))\n",
    "    model.add(Dense(1, activation='sigmoid'))\n",
    "    model.compile(optimizer='adam', loss='binary_crossentropy', metrics=['accuracy'])\n",
    "    return model\n",
    "\n",
    "\n",
    "percentages = np.linspace(0.2, 1.0, 5)\n",
    "results = []\n",
    "\n",
    "for percent in percentages:\n",
    "    num_samples = int(len(X_train) * percent)\n",
    "\n",
    "    X_train_subset = X_train[:num_samples]\n",
    "    y_train_subset = y_train[:num_samples]\n",
    "\n",
    "    print(f\"\\nTraining with {percent * 100:.1f}% of training data ({num_samples} samples):\")\n",
    "\n",
    "    lstm_model = create_lstm_model()\n",
    "    gru_model = create_gru_model()\n",
    "\n",
    "    lstm_model.fit(X_train_subset, y_train_subset, epochs=60, batch_size=16, validation_data=(X_val, y_val),verbose=0)\n",
    "    lstm_val_loss, lstm_val_acc = lstm_model.evaluate(X_val, y_val)\n",
    "    print(f\"LSTM Validation Accuracy: {lstm_val_acc * 100:.2f}%\")\n",
    "    results.append([percent * 100, \"LSTM\", lstm_val_acc * 100])\n",
    "\n",
    "    gru_model.fit(X_train_subset, y_train_subset, epochs=60, batch_size=16, validation_data=(X_val, y_val),verbose=0)\n",
    "    gru_val_loss, gru_val_acc = gru_model.evaluate(X_val, y_val)\n",
    "    print(f\"GRU Validation Accuracy: {gru_val_acc * 100:.2f}%\")\n",
    "    results.append([percent * 100, \"GRU\", gru_val_acc * 100])\n",
    "\n",
    "\n",
    "lstm_model.summary()\n",
    "gru_model.summary()\n",
    "\n",
    "\n",
    "df = pd.DataFrame(results, columns=['percent', 'model_name', 'validation_accuracy'])\n",
    "\n",
    "\n",
    "plt.figure(figsize=(10, 6))\n",
    "\n",
    "for model_name in df['model_name'].unique():\n",
    "    model_df = df[df['model_name'] == model_name]\n",
    "    plt.plot(model_df['percent'], model_df['validation_accuracy'], marker='o', label=model_name)\n",
    "\n",
    "plt.title('Validation Accuracy vs. Percentage of Data Used')\n",
    "plt.xlabel('Percentage of Data Used (%)')\n",
    "plt.ylabel('Validation Accuracy (%)')\n",
    "plt.legend(title='Model Name')\n",
    "plt.show()\n",
    "\n",
    "print(df)"
   ]
  }
 ],
 "metadata": {
  "language_info": {
   "name": "python"
  }
 },
 "nbformat": 4,
 "nbformat_minor": 2
}
